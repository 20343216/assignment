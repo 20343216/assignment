{
 "cells": [
  {
   "cell_type": "markdown",
   "id": "3b9e1eb9",
   "metadata": {},
   "source": [
    "# Data Science Tools and Ecosystem"
   ]
  },
  {
   "cell_type": "markdown",
   "id": "2d90ea4e",
   "metadata": {},
   "source": [
    "### In this notebook, Data Science Tools and Ecosystem are summarized"
   ]
  },
  {
   "cell_type": "markdown",
   "id": "21026eda",
   "metadata": {},
   "source": [
    "**Objective:**"
   ]
  },
  {
   "cell_type": "markdown",
   "id": "95ad2861",
   "metadata": {},
   "source": [
    "- List popular Data Science Languages.\n",
    "- List commonly used Data Science libraries.\n",
    "- Build a table of Data Science tools\n",
    "- Given an Examples of Evaluating Arithmetic expressions in Python"
   ]
  },
  {
   "cell_type": "markdown",
   "id": "8821773a",
   "metadata": {},
   "source": [
    "#### List of data science language "
   ]
  },
  {
   "cell_type": "markdown",
   "id": "d7e8736a",
   "metadata": {},
   "source": [
    "1. Python\n",
    "2. SQL\n",
    "3. R\n",
    "4. Scale\n",
    "5. Java\n",
    "6. C++\n",
    "7. Julia"
   ]
  },
  {
   "cell_type": "markdown",
   "id": "b136f7ba",
   "metadata": {},
   "source": [
    "#### List commonly used Data Science libraries"
   ]
  },
  {
   "cell_type": "markdown",
   "id": "ad25e630",
   "metadata": {},
   "source": [
    "1. Pandas\n",
    "2. Keras\n",
    "3. scikit-learn\n",
    "4. Tensorflow\n",
    "5. PyTorch\n",
    "6. NumPy \n",
    "7. Matplotlib\n",
    "8. Seaborn\n",
    "9. Apache Spark\n",
    "10. Vegas\n",
    "11. ggplot2"
   ]
  },
  {
   "cell_type": "markdown",
   "id": "a10371cc",
   "metadata": {},
   "source": [
    "#### Build a table of Data Science tools"
   ]
  },
  {
   "cell_type": "markdown",
   "id": "678785fb",
   "metadata": {},
   "source": [
    "|Data Science tools | \n",
    "| ----------------- | \n",
    "| IBM Watson Studio |\n",
    "| Jupyter           | \n",
    "| R studio          | \n",
    "| Apache Zeppelin   | "
   ]
  },
  {
   "cell_type": "markdown",
   "id": "92155efa",
   "metadata": {},
   "source": [
    "### Below are a few examples of evaluating arithmetic expressions in Python ###"
   ]
  },
  {
   "cell_type": "code",
   "execution_count": 4,
   "id": "62f90adb",
   "metadata": {},
   "outputs": [
    {
     "name": "stdout",
     "output_type": "stream",
     "text": [
      "17\n"
     ]
    }
   ],
   "source": [
    "#This a simple arithmetic expression to mutiply then add integers\n",
    "print((3*4)+5)"
   ]
  },
  {
   "cell_type": "code",
   "execution_count": 5,
   "id": "6ee7f306",
   "metadata": {},
   "outputs": [
    {
     "name": "stdout",
     "output_type": "stream",
     "text": [
      "3 hours 20 minutes\n"
     ]
    }
   ],
   "source": [
    "# This will convert 200 minutes to hours by diving by 60\n",
    "print(200//60,\"hours\",(200%60),\"minutes\")"
   ]
  },
  {
   "cell_type": "markdown",
   "id": "b70be229",
   "metadata": {},
   "source": [
    "## Author\n",
    "#### QIANHUI WANG"
   ]
  },
  {
   "cell_type": "markdown",
   "id": "71a52d0f",
   "metadata": {},
   "source": [
    "#### respository on GitHub (https://github.com/20343216/assignment)"
   ]
  },
  {
   "cell_type": "code",
   "execution_count": null,
   "id": "796b709e",
   "metadata": {},
   "outputs": [],
   "source": []
  }
 ],
 "metadata": {
  "kernelspec": {
   "display_name": "Python 3 (ipykernel)",
   "language": "python",
   "name": "python3"
  },
  "language_info": {
   "codemirror_mode": {
    "name": "ipython",
    "version": 3
   },
   "file_extension": ".py",
   "mimetype": "text/x-python",
   "name": "python",
   "nbconvert_exporter": "python",
   "pygments_lexer": "ipython3",
   "version": "3.11.5"
  }
 },
 "nbformat": 4,
 "nbformat_minor": 5
}
